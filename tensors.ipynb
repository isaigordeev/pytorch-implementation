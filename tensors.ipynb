{
  "cells": [
    {
      "cell_type": "markdown",
      "metadata": {
        "id": "view-in-github",
        "colab_type": "text"
      },
      "source": [
        "<a href=\"https://colab.research.google.com/github/isaigordeev/pytorch-implementation/blob/main/tensors.ipynb\" target=\"_parent\"><img src=\"https://colab.research.google.com/assets/colab-badge.svg\" alt=\"Open In Colab\"/></a>"
      ]
    },
    {
      "cell_type": "code",
      "execution_count": null,
      "metadata": {
        "id": "5wheBYyZdRxA",
        "outputId": "cfbb0583-fb86-4151-cb2c-a9a9cb7db2f5"
      },
      "outputs": [
        {
          "ename": "",
          "evalue": "",
          "output_type": "error",
          "traceback": [
            "\u001b[1;31mThe kernel failed to start due to the missing module 'prompt_toolkit.formatted_text'. Consider installing this module.\n",
            "\u001b[1;31mClick <a href='https://aka.ms/kernelFailuresMissingModule'>here</a> for more info."
          ]
        }
      ],
      "source": [
        "import torch\n",
        "import numpy as np\n",
        "torch.__version__"
      ]
    },
    {
      "cell_type": "markdown",
      "metadata": {
        "id": "sA2yFIJDdRxB"
      },
      "source": [
        "Le travail avec les tensors de plusieurs dimension"
      ]
    },
    {
      "cell_type": "code",
      "execution_count": null,
      "metadata": {
        "id": "2K81H7dOdRxD",
        "outputId": "d403c575-54f0-4cbe-d3f0-cc1cafa88030"
      },
      "outputs": [
        {
          "name": "stdout",
          "output_type": "stream",
          "text": [
            "tensor(7)\n",
            "0\n",
            "7\n",
            "<class 'int'>\n",
            "<class 'torch.Tensor'>\n"
          ]
        }
      ],
      "source": [
        "scalar = torch.tensor(7)\n",
        "print(scalar)\n",
        "print(scalar.ndim)\n",
        "print(scalar.item())\n",
        "print(type(scalar.item()))\n",
        "print(type(scalar))"
      ]
    },
    {
      "cell_type": "code",
      "execution_count": null,
      "metadata": {
        "id": "GmPQqZIJdRxE",
        "outputId": "ec5d7d54-9c2f-4e52-a193-87354331b44a"
      },
      "outputs": [
        {
          "name": "stdout",
          "output_type": "stream",
          "text": [
            "tensor([1, 2])\n",
            "torch.Size([2])\n"
          ]
        }
      ],
      "source": [
        "vector = torch.tensor([1,2])\n",
        "print(vector)\n",
        "print(vector.shape)"
      ]
    },
    {
      "cell_type": "code",
      "execution_count": null,
      "metadata": {
        "id": "TS5INrYkdRxE",
        "outputId": "3d087ea1-cc63-4f1c-c996-2361bb6b49d0"
      },
      "outputs": [
        {
          "name": "stdout",
          "output_type": "stream",
          "text": [
            "tensor([[[0.8237]],\n",
            "\n",
            "        [[0.4465]]]) torch.float32\n"
          ]
        }
      ],
      "source": [
        "rand_t = torch.rand(size=(1,2,3))\n",
        "rand_t = torch.rand(2,1,1)\n",
        "print(rand_t, rand_t.dtype)"
      ]
    },
    {
      "cell_type": "code",
      "execution_count": null,
      "metadata": {
        "id": "UK2ulbOfdRxF",
        "outputId": "5c868f8f-7280-41d9-e065-80db6973fc82"
      },
      "outputs": [
        {
          "name": "stdout",
          "output_type": "stream",
          "text": [
            "tensor([[[0.]]]) tensor([[[1.],\n",
            "         [1.]],\n",
            "\n",
            "        [[1.],\n",
            "         [1.]],\n",
            "\n",
            "        [[1.],\n",
            "         [1.]]])\n"
          ]
        }
      ],
      "source": [
        "zeros = torch.zeros(1,1,1)\n",
        "ones = torch.ones(3,2,1)\n",
        "print(zeros, ones)"
      ]
    },
    {
      "cell_type": "code",
      "execution_count": null,
      "metadata": {
        "id": "uAuA-o4tdRxG",
        "outputId": "58137d31-e2bc-4503-ab0c-84af48d3572d"
      },
      "outputs": [
        {
          "name": "stdout",
          "output_type": "stream",
          "text": [
            "tensor([1, 3, 5, 7, 9])\n",
            "tensor([0, 0, 0, 0, 0])\n"
          ]
        }
      ],
      "source": [
        "a = torch.arange(1,10,2)\n",
        "print(a)\n",
        "zeros_as = torch.zeros_like(a)\n",
        "print(zeros_as)"
      ]
    },
    {
      "cell_type": "code",
      "execution_count": null,
      "metadata": {
        "id": "W0LX8MFwdRxG",
        "outputId": "08c63aef-cdd5-4f21-c6f8-b566199117aa"
      },
      "outputs": [
        {
          "name": "stdout",
          "output_type": "stream",
          "text": [
            "torch.Size([3]) torch.float32 cpu\n"
          ]
        }
      ],
      "source": [
        "tensor = torch.tensor([3,1.0,3],\n",
        "                      dtype=None,\n",
        "                      device=None,\n",
        "                      requires_grad=False)\n",
        "    \n",
        "print(tensor.shape, tensor.dtype, tensor.device)\n"
      ]
    },
    {
      "cell_type": "code",
      "execution_count": null,
      "metadata": {
        "id": "KkE-0jc9dRxH",
        "outputId": "5638b9b6-fc7e-4b04-b682-76943e110a17"
      },
      "outputs": [
        {
          "data": {
            "text/plain": [
              "tensor([6010., 2010., 6010.])"
            ]
          },
          "execution_count": 27,
          "metadata": {},
          "output_type": "execute_result"
        }
      ],
      "source": [
        "tensor *= 10\n",
        "tensor += 10\n",
        "tensor"
      ]
    },
    {
      "cell_type": "code",
      "execution_count": null,
      "metadata": {
        "id": "ZdopF0MWdRxH",
        "outputId": "e974a5cf-e163-4657-b5d5-52dcf14bb9cf"
      },
      "outputs": [
        {
          "name": "stdout",
          "output_type": "stream",
          "text": [
            "tensor([ 0.8298,  1.5551, -2.0902,  1.0008, -0.3074], grad_fn=<AddBackward0>)\n",
            "tensor(1.5551, grad_fn=<MaxBackward1>)\n",
            "tensor(-2.0902, grad_fn=<MinBackward1>)\n",
            "tensor(2)\n",
            "<built-in method argmin of Tensor object at 0x7f8a9013ef40>\n",
            "tensor(2)\n"
          ]
        }
      ],
      "source": [
        "torch.manual_seed(14)\n",
        "linear = torch.nn.Linear(in_features=3,\n",
        "                         out_features=5)\n",
        "\n",
        "\n",
        "\n",
        "x =tensor \n",
        "output = linear(x)\n",
        "print(output)\n",
        "print(output.max())\n",
        "print(output.min())\n",
        "print(output.argmin())\n",
        "print(output.argmin)\n",
        "print(torch.argmin(output))"
      ]
    },
    {
      "cell_type": "code",
      "execution_count": null,
      "metadata": {
        "id": "c76IARytdRxI",
        "outputId": "8da66065-976a-4f18-cef3-b5fae707a5bd"
      },
      "outputs": [
        {
          "name": "stdout",
          "output_type": "stream",
          "text": [
            "[1 2 3 4 5 6 7] tensor([1, 2, 3, 4, 5, 6, 7])\n",
            "[1 2 3 4 5 6 7]\n"
          ]
        }
      ],
      "source": [
        "import numpy as np \n",
        "arr = np.arange(1, 8)\n",
        "tens = torch.from_numpy(arr)\n",
        "print(arr, tens)\n",
        "tens = tens.numpy()\n",
        "print(tens)"
      ]
    },
    {
      "cell_type": "code",
      "execution_count": null,
      "metadata": {
        "id": "Q3nrSO6ldRxI",
        "outputId": "571938d9-0c1f-41b1-9fe0-6a81ae028021"
      },
      "outputs": [
        {
          "name": "stdout",
          "output_type": "stream",
          "text": [
            "zsh:1: command not found: nvidia-smi\n"
          ]
        }
      ],
      "source": [
        "!nvidia-smi"
      ]
    },
    {
      "cell_type": "code",
      "execution_count": null,
      "metadata": {
        "id": "Bml3zoaxdRxJ",
        "outputId": "54cef439-e6c7-4db8-a412-c8bf2e183470"
      },
      "outputs": [
        {
          "data": {
            "text/plain": [
              "False"
            ]
          },
          "execution_count": 48,
          "metadata": {},
          "output_type": "execute_result"
        }
      ],
      "source": [
        "torch.cuda.is_available()\n"
      ]
    },
    {
      "cell_type": "markdown",
      "metadata": {
        "id": "Dxz2jByudxLB"
      },
      "source": [
        "(went to colab from local jupyter)"
      ]
    },
    {
      "cell_type": "code",
<<<<<<< HEAD
      "execution_count": 1,
=======
      "source": [
        "!nvidia-smi\n",
        "import torch "
      ],
>>>>>>> a8685a696224967e0c5d12e52066f373442e1875
      "metadata": {
        "colab": {
          "base_uri": "https://localhost:8080/"
        },
        "id": "_jVj6D-_dzEf",
        "outputId": "dd1fe30c-e435-4e4b-d732-96e105bbb647"
      },
<<<<<<< HEAD
=======
      "execution_count": 2,
>>>>>>> a8685a696224967e0c5d12e52066f373442e1875
      "outputs": [
        {
          "name": "stdout",
          "output_type": "stream",
          "text": [
            "Sun Feb 19 14:29:45 2023       \n",
            "+-----------------------------------------------------------------------------+\n",
            "| NVIDIA-SMI 510.47.03    Driver Version: 510.47.03    CUDA Version: 11.6     |\n",
            "|-------------------------------+----------------------+----------------------+\n",
            "| GPU  Name        Persistence-M| Bus-Id        Disp.A | Volatile Uncorr. ECC |\n",
            "| Fan  Temp  Perf  Pwr:Usage/Cap|         Memory-Usage | GPU-Util  Compute M. |\n",
            "|                               |                      |               MIG M. |\n",
            "|===============================+======================+======================|\n",
            "|   0  Tesla T4            Off  | 00000000:00:04.0 Off |                    0 |\n",
            "| N/A   59C    P0    26W /  70W |      0MiB / 15360MiB |      0%      Default |\n",
            "|                               |                      |                  N/A |\n",
            "+-------------------------------+----------------------+----------------------+\n",
            "                                                                               \n",
            "+-----------------------------------------------------------------------------+\n",
            "| Processes:                                                                  |\n",
            "|  GPU   GI   CI        PID   Type   Process name                  GPU Memory |\n",
            "|        ID   ID                                                   Usage      |\n",
            "|=============================================================================|\n",
            "|  No running processes found                                                 |\n",
            "+-----------------------------------------------------------------------------+\n"
          ]
        }
      ],
      "source": [
        "!nvidia-smi"
      ]
    },
    {
      "cell_type": "code",
<<<<<<< HEAD
      "execution_count": null,
=======
      "source": [
        "torch.cuda.is_available()"
      ],
      "metadata": {
        "colab": {
          "base_uri": "https://localhost:8080/"
        },
        "id": "tKjmFhRkd82S",
        "outputId": "3b1023a4-581a-4dea-88de-bfa472207c65"
      },
      "execution_count": 3,
      "outputs": [
        {
          "output_type": "execute_result",
          "data": {
            "text/plain": [
              "True"
            ]
          },
          "metadata": {},
          "execution_count": 3
        }
      ]
    },
    {
      "cell_type": "code",
      "source": [
        "device = 'cuda'\n",
        "torch.manual_seed(1234)\n",
        "rand_tensor1 = torch.rand(2,2, device = device)\n",
        "torch.manual_seed(1234)\n",
        "rand_tensor2 = torch.rand(2,2, device = device)\n",
        "print(rand_tensor1, rand_tensor2)"
      ],
      "metadata": {
        "id": "dNdWQHWPehUY",
        "outputId": "249f059b-b6a8-4666-fc7e-ccfe1f4a1fcd",
        "colab": {
          "base_uri": "https://localhost:8080/"
        }
      },
      "execution_count": 9,
      "outputs": [
        {
          "output_type": "stream",
          "name": "stdout",
          "text": [
            "tensor([[0.1272, 0.8167],\n",
            "        [0.5440, 0.6601]], device='cuda:0') tensor([[0.1272, 0.8167],\n",
            "        [0.5440, 0.6601]], device='cuda:0')\n"
          ]
        }
      ]
    },
    {
      "cell_type": "code",
      "source": [
        "%time\n",
        "rand_tensor3 = torch.mm(rand_tensor1, rand_tensor2)\n",
        "print(rand_tensor3)"
      ],
      "metadata": {
        "id": "CfO7Koz-expe",
        "outputId": "09ba7513-7d41-42cc-d8d4-5aafcbf5e1ce",
        "colab": {
          "base_uri": "https://localhost:8080/"
        }
      },
      "execution_count": 5,
      "outputs": [
        {
          "output_type": "stream",
          "name": "stdout",
          "text": [
            "CPU times: user 3 µs, sys: 1 µs, total: 4 µs\n",
            "Wall time: 8.58 µs\n",
            "tensor([[0.7137, 0.1662],\n",
            "        [0.7719, 0.2922]], device='cuda:0')\n"
          ]
        }
      ]
    },
    {
      "cell_type": "code",
      "source": [
        "print(torch.max(rand_tensor3))"
      ],
      "metadata": {
        "id": "X9eoqjlIfsqa",
        "outputId": "85276960-bd5d-4413-c1fb-305d472a2186",
        "colab": {
          "base_uri": "https://localhost:8080/"
        }
      },
      "execution_count": 6,
      "outputs": [
        {
          "output_type": "stream",
          "name": "stdout",
          "text": [
            "tensor(0.7719, device='cuda:0')\n"
          ]
        }
      ]
    },
    {
      "cell_type": "code",
      "source": [
        "tensor = torch.rand(1,1,10)\n",
        "tensor\n",
        "tensor = tensor.squeeze()\n",
        "tensor"
      ],
      "metadata": {
        "id": "xBBXoOFCjR0C",
        "outputId": "6faac41b-df18-4cd1-eabf-3e3587bb7c7b",
        "colab": {
          "base_uri": "https://localhost:8080/"
        }
      },
      "execution_count": 26,
      "outputs": [
        {
          "output_type": "execute_result",
          "data": {
            "text/plain": [
              "tensor([0.7917, 0.5447, 0.6220, 0.1668, 0.3932, 0.8298, 0.7293, 0.3554, 0.5615,\n",
              "        0.8828])"
            ]
          },
          "metadata": {},
          "execution_count": 26
        }
      ]
    },
    {
      "cell_type": "code",
      "source": [],
>>>>>>> a8685a696224967e0c5d12e52066f373442e1875
      "metadata": {
        "id": "QRS0faXlGQCo"
      },
      "outputs": [],
      "source": []
    }
  ],
  "metadata": {
    "accelerator": "GPU",
    "colab": {
      "provenance": []
    },
    "gpuClass": "standard",
    "kernelspec": {
      "display_name": "Python 3",
      "language": "python",
      "name": "python3"
    },
    "language_info": {
      "codemirror_mode": {
        "name": "ipython",
        "version": 3
      },
      "file_extension": ".py",
      "mimetype": "text/x-python",
      "name": "python",
      "nbconvert_exporter": "python",
      "pygments_lexer": "ipython3",
      "version": "3.8.0"
    },
    "orig_nbformat": 4,
    "vscode": {
      "interpreter": {
        "hash": "aee8b7b246df8f9039afb4144a1f6fd8d2ca17a180786b69acc140d282b71a49"
      }
<<<<<<< HEAD
    }
=======
    },
    "colab": {
      "provenance": [],
      "include_colab_link": true
    },
    "accelerator": "GPU",
    "gpuClass": "standard"
>>>>>>> a8685a696224967e0c5d12e52066f373442e1875
  },
  "nbformat": 4,
  "nbformat_minor": 0
}
